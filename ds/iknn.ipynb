{
 "cells": [
  {
   "cell_type": "code",
   "execution_count": 99,
   "metadata": {
    "collapsed": true
   },
   "outputs": [],
   "source": [
    "#https://machinelearningmastery.com/tutorial-to-implement-k-nearest-neighbors-in-python-from-scratch/"
   ]
  },
  {
   "cell_type": "code",
   "execution_count": 3,
   "metadata": {},
   "outputs": [],
   "source": [
    "import numpy as np\n",
    "import pandas as pd\n",
    "import math\n",
    "\n",
    "import matplotlib.pyplot as plt\n",
    "%matplotlib inline\n",
    "\n",
    "from IPython.core.interactiveshell import InteractiveShell\n",
    "InteractiveShell.ast_node_interactivity = \"all\""
   ]
  },
  {
   "cell_type": "code",
   "execution_count": 78,
   "metadata": {},
   "outputs": [],
   "source": [
    "#methods\n",
    "class GetDistance:\n",
    "    def euclidean(lista,listb):\n",
    "        return math.sqrt(sum([ (x-y)**2 for x,y in zip(lista,listb)]))\n",
    "    \n",
    "    def cosine(lista,listb):\n",
    "        sum_ab = 0\n",
    "        sum_sqr_a = sum_sqr_b = 0\n",
    "        for x, y in zip(lista, listb):\n",
    "            sum_ab += abs(x*y)\n",
    "            sum_sqr_a += x*x\n",
    "            sum_sqr_b += y*y\n",
    "        return sum_ab / (math.sqrt(sum_sqr_a) + math.sqrt(sum_sqr_b))\n",
    "    \n",
    "    def pearson(self, lista, listb):\n",
    "        n = len(lista)\n",
    "        sum_a=0\n",
    "        sum_b=0\n",
    "        sum_sqr_a=0\n",
    "        sum_sqr_b=0\n",
    "        sum_ab = 0\n",
    "        for i in range(len(lista)):\n",
    "            a=lista[i]\n",
    "            b=listb[i]\n",
    "            sum_a += a\n",
    "            sum_b += b\n",
    "            sum_sqr_a += a**2\n",
    "            sum_sqr_b += b**2\n",
    "            sum_ab += a*b\n",
    "        \n",
    "        mean_a = sum_a/n\n",
    "        mean_b = sum_b/n\n",
    "        print(sum_ab-n*mean_a*mean_b)\n",
    "        print(math.sqrt((sum_sqr_a-n*mean_a**2)*(sum_sqr_b-n*mean_b**2)))\n",
    "        print(\"----\")\n",
    "        return (sum_ab-n*mean_a*mean_b)/math.sqrt((sum_sqr_a-n*mean_a**2)*(sum_sqr_b-n*mean_b**2))\n",
    "        "
   ]
  },
  {
   "cell_type": "code",
   "execution_count": 53,
   "metadata": {},
   "outputs": [
    {
     "data": {
      "text/plain": [
       "2.008316044185609"
      ]
     },
     "execution_count": 53,
     "metadata": {},
     "output_type": "execute_result"
    },
    {
     "data": {
      "text/plain": [
       "2.8284271247461903"
      ]
     },
     "execution_count": 53,
     "metadata": {},
     "output_type": "execute_result"
    },
    {
     "name": "stdout",
     "output_type": "stream",
     "text": [
      "4.5\n",
      "4.5\n",
      "----\n"
     ]
    },
    {
     "data": {
      "text/plain": [
       "1.0"
      ]
     },
     "execution_count": 53,
     "metadata": {},
     "output_type": "execute_result"
    }
   ],
   "source": [
    "GetDistance.cosine([1,2],[3,4])\n",
    "\n",
    "a=GetDistance()\n",
    "a.euclidean([1,2],[3,4])\n",
    "a.pearson([1,2],[1,10])\n",
    "#error \n",
    "#a.cosine([1,2],[3,4])"
   ]
  },
  {
   "cell_type": "code",
   "execution_count": 8,
   "metadata": {
    "collapsed": true
   },
   "outputs": [],
   "source": [
    "#read data\n",
    "df=pd.read_csv(\"iris.txt\")"
   ]
  },
  {
   "cell_type": "code",
   "execution_count": 9,
   "metadata": {},
   "outputs": [
    {
     "data": {
      "text/html": [
       "<div>\n",
       "<style scoped>\n",
       "    .dataframe tbody tr th:only-of-type {\n",
       "        vertical-align: middle;\n",
       "    }\n",
       "\n",
       "    .dataframe tbody tr th {\n",
       "        vertical-align: top;\n",
       "    }\n",
       "\n",
       "    .dataframe thead th {\n",
       "        text-align: right;\n",
       "    }\n",
       "</style>\n",
       "<table border=\"1\" class=\"dataframe\">\n",
       "  <thead>\n",
       "    <tr style=\"text-align: right;\">\n",
       "      <th></th>\n",
       "      <th>5.1</th>\n",
       "      <th>3.5</th>\n",
       "      <th>1.4</th>\n",
       "      <th>0.2</th>\n",
       "      <th>Iris-setosa</th>\n",
       "    </tr>\n",
       "  </thead>\n",
       "  <tbody>\n",
       "    <tr>\n",
       "      <th>0</th>\n",
       "      <td>4.9</td>\n",
       "      <td>3.0</td>\n",
       "      <td>1.4</td>\n",
       "      <td>0.2</td>\n",
       "      <td>Iris-setosa</td>\n",
       "    </tr>\n",
       "    <tr>\n",
       "      <th>1</th>\n",
       "      <td>4.7</td>\n",
       "      <td>3.2</td>\n",
       "      <td>1.3</td>\n",
       "      <td>0.2</td>\n",
       "      <td>Iris-setosa</td>\n",
       "    </tr>\n",
       "    <tr>\n",
       "      <th>2</th>\n",
       "      <td>4.6</td>\n",
       "      <td>3.1</td>\n",
       "      <td>1.5</td>\n",
       "      <td>0.2</td>\n",
       "      <td>Iris-setosa</td>\n",
       "    </tr>\n",
       "    <tr>\n",
       "      <th>3</th>\n",
       "      <td>5.0</td>\n",
       "      <td>3.6</td>\n",
       "      <td>1.4</td>\n",
       "      <td>0.2</td>\n",
       "      <td>Iris-setosa</td>\n",
       "    </tr>\n",
       "    <tr>\n",
       "      <th>4</th>\n",
       "      <td>5.4</td>\n",
       "      <td>3.9</td>\n",
       "      <td>1.7</td>\n",
       "      <td>0.4</td>\n",
       "      <td>Iris-setosa</td>\n",
       "    </tr>\n",
       "  </tbody>\n",
       "</table>\n",
       "</div>"
      ],
      "text/plain": [
       "   5.1  3.5  1.4  0.2  Iris-setosa\n",
       "0  4.9  3.0  1.4  0.2  Iris-setosa\n",
       "1  4.7  3.2  1.3  0.2  Iris-setosa\n",
       "2  4.6  3.1  1.5  0.2  Iris-setosa\n",
       "3  5.0  3.6  1.4  0.2  Iris-setosa\n",
       "4  5.4  3.9  1.7  0.4  Iris-setosa"
      ]
     },
     "execution_count": 9,
     "metadata": {},
     "output_type": "execute_result"
    }
   ],
   "source": [
    "df.head()"
   ]
  },
  {
   "cell_type": "code",
   "execution_count": 74,
   "metadata": {},
   "outputs": [
    {
     "data": {
      "text/html": [
       "<div>\n",
       "<style scoped>\n",
       "    .dataframe tbody tr th:only-of-type {\n",
       "        vertical-align: middle;\n",
       "    }\n",
       "\n",
       "    .dataframe tbody tr th {\n",
       "        vertical-align: top;\n",
       "    }\n",
       "\n",
       "    .dataframe thead th {\n",
       "        text-align: right;\n",
       "    }\n",
       "</style>\n",
       "<table border=\"1\" class=\"dataframe\">\n",
       "  <thead>\n",
       "    <tr style=\"text-align: right;\">\n",
       "      <th></th>\n",
       "      <th>5.1</th>\n",
       "      <th>3.5</th>\n",
       "      <th>1.4</th>\n",
       "      <th>0.2</th>\n",
       "      <th>Iris-setosa</th>\n",
       "    </tr>\n",
       "  </thead>\n",
       "  <tbody>\n",
       "    <tr>\n",
       "      <th>144</th>\n",
       "      <td>6.7</td>\n",
       "      <td>3.0</td>\n",
       "      <td>5.2</td>\n",
       "      <td>2.3</td>\n",
       "      <td>Iris-virginica</td>\n",
       "    </tr>\n",
       "    <tr>\n",
       "      <th>145</th>\n",
       "      <td>6.3</td>\n",
       "      <td>2.5</td>\n",
       "      <td>5.0</td>\n",
       "      <td>1.9</td>\n",
       "      <td>Iris-virginica</td>\n",
       "    </tr>\n",
       "    <tr>\n",
       "      <th>146</th>\n",
       "      <td>6.5</td>\n",
       "      <td>3.0</td>\n",
       "      <td>5.2</td>\n",
       "      <td>2.0</td>\n",
       "      <td>Iris-virginica</td>\n",
       "    </tr>\n",
       "    <tr>\n",
       "      <th>147</th>\n",
       "      <td>6.2</td>\n",
       "      <td>3.4</td>\n",
       "      <td>5.4</td>\n",
       "      <td>2.3</td>\n",
       "      <td>Iris-virginica</td>\n",
       "    </tr>\n",
       "    <tr>\n",
       "      <th>148</th>\n",
       "      <td>5.9</td>\n",
       "      <td>3.0</td>\n",
       "      <td>5.1</td>\n",
       "      <td>1.8</td>\n",
       "      <td>Iris-virginica</td>\n",
       "    </tr>\n",
       "  </tbody>\n",
       "</table>\n",
       "</div>"
      ],
      "text/plain": [
       "     5.1  3.5  1.4  0.2     Iris-setosa\n",
       "144  6.7  3.0  5.2  2.3  Iris-virginica\n",
       "145  6.3  2.5  5.0  1.9  Iris-virginica\n",
       "146  6.5  3.0  5.2  2.0  Iris-virginica\n",
       "147  6.2  3.4  5.4  2.3  Iris-virginica\n",
       "148  5.9  3.0  5.1  1.8  Iris-virginica"
      ]
     },
     "execution_count": 74,
     "metadata": {},
     "output_type": "execute_result"
    }
   ],
   "source": [
    "df.tail()"
   ]
  },
  {
   "cell_type": "code",
   "execution_count": 10,
   "metadata": {},
   "outputs": [
    {
     "data": {
      "text/html": [
       "<div>\n",
       "<style scoped>\n",
       "    .dataframe tbody tr th:only-of-type {\n",
       "        vertical-align: middle;\n",
       "    }\n",
       "\n",
       "    .dataframe tbody tr th {\n",
       "        vertical-align: top;\n",
       "    }\n",
       "\n",
       "    .dataframe thead th {\n",
       "        text-align: right;\n",
       "    }\n",
       "</style>\n",
       "<table border=\"1\" class=\"dataframe\">\n",
       "  <thead>\n",
       "    <tr style=\"text-align: right;\">\n",
       "      <th></th>\n",
       "      <th>5.1</th>\n",
       "      <th>3.5</th>\n",
       "      <th>1.4</th>\n",
       "      <th>0.2</th>\n",
       "    </tr>\n",
       "  </thead>\n",
       "  <tbody>\n",
       "    <tr>\n",
       "      <th>count</th>\n",
       "      <td>149.000000</td>\n",
       "      <td>149.000000</td>\n",
       "      <td>149.000000</td>\n",
       "      <td>149.000000</td>\n",
       "    </tr>\n",
       "    <tr>\n",
       "      <th>mean</th>\n",
       "      <td>5.848322</td>\n",
       "      <td>3.051007</td>\n",
       "      <td>3.774497</td>\n",
       "      <td>1.205369</td>\n",
       "    </tr>\n",
       "    <tr>\n",
       "      <th>std</th>\n",
       "      <td>0.828594</td>\n",
       "      <td>0.433499</td>\n",
       "      <td>1.759651</td>\n",
       "      <td>0.761292</td>\n",
       "    </tr>\n",
       "    <tr>\n",
       "      <th>min</th>\n",
       "      <td>4.300000</td>\n",
       "      <td>2.000000</td>\n",
       "      <td>1.000000</td>\n",
       "      <td>0.100000</td>\n",
       "    </tr>\n",
       "    <tr>\n",
       "      <th>25%</th>\n",
       "      <td>5.100000</td>\n",
       "      <td>2.800000</td>\n",
       "      <td>1.600000</td>\n",
       "      <td>0.300000</td>\n",
       "    </tr>\n",
       "    <tr>\n",
       "      <th>50%</th>\n",
       "      <td>5.800000</td>\n",
       "      <td>3.000000</td>\n",
       "      <td>4.400000</td>\n",
       "      <td>1.300000</td>\n",
       "    </tr>\n",
       "    <tr>\n",
       "      <th>75%</th>\n",
       "      <td>6.400000</td>\n",
       "      <td>3.300000</td>\n",
       "      <td>5.100000</td>\n",
       "      <td>1.800000</td>\n",
       "    </tr>\n",
       "    <tr>\n",
       "      <th>max</th>\n",
       "      <td>7.900000</td>\n",
       "      <td>4.400000</td>\n",
       "      <td>6.900000</td>\n",
       "      <td>2.500000</td>\n",
       "    </tr>\n",
       "  </tbody>\n",
       "</table>\n",
       "</div>"
      ],
      "text/plain": [
       "              5.1         3.5         1.4         0.2\n",
       "count  149.000000  149.000000  149.000000  149.000000\n",
       "mean     5.848322    3.051007    3.774497    1.205369\n",
       "std      0.828594    0.433499    1.759651    0.761292\n",
       "min      4.300000    2.000000    1.000000    0.100000\n",
       "25%      5.100000    2.800000    1.600000    0.300000\n",
       "50%      5.800000    3.000000    4.400000    1.300000\n",
       "75%      6.400000    3.300000    5.100000    1.800000\n",
       "max      7.900000    4.400000    6.900000    2.500000"
      ]
     },
     "execution_count": 10,
     "metadata": {},
     "output_type": "execute_result"
    }
   ],
   "source": [
    "df.describe()"
   ]
  },
  {
   "cell_type": "code",
   "execution_count": 98,
   "metadata": {},
   "outputs": [
    {
     "data": {
      "text/plain": [
       "[(-4.699999999999999, 'Iris-setosa')]"
      ]
     },
     "execution_count": 98,
     "metadata": {},
     "output_type": "execute_result"
    },
    {
     "data": {
      "text/plain": [
       "[(-4.864154602806124, 'Iris-setosa'), (-4.699999999999999, 'Iris-setosa')]"
      ]
     },
     "execution_count": 98,
     "metadata": {},
     "output_type": "execute_result"
    },
    {
     "data": {
      "text/plain": [
       "[(-4.864154602806124, 'Iris-setosa'),\n",
       " (-4.699999999999999, 'Iris-setosa'),\n",
       " (-4.7455242070818695, 'Iris-setosa')]"
      ]
     },
     "execution_count": 98,
     "metadata": {},
     "output_type": "execute_result"
    },
    {
     "data": {
      "text/plain": [
       "[(-4.864154602806124, 'Iris-setosa'),\n",
       " (-4.701063709417263, 'Iris-setosa'),\n",
       " (-4.7455242070818695, 'Iris-setosa'),\n",
       " (-4.699999999999999, 'Iris-setosa')]"
      ]
     },
     "execution_count": 98,
     "metadata": {},
     "output_type": "execute_result"
    },
    {
     "data": {
      "text/plain": [
       "[(-4.864154602806124, 'Iris-setosa'),\n",
       " (-4.701063709417263, 'Iris-setosa'),\n",
       " (-4.7455242070818695, 'Iris-setosa'),\n",
       " (-4.699999999999999, 'Iris-setosa'),\n",
       " (-4.28485705712571, 'Iris-setosa')]"
      ]
     },
     "execution_count": 98,
     "metadata": {},
     "output_type": "execute_result"
    },
    {
     "data": {
      "text/plain": [
       "(-4.864154602806124, 'Iris-setosa')"
      ]
     },
     "execution_count": 98,
     "metadata": {},
     "output_type": "execute_result"
    },
    {
     "data": {
      "text/plain": [
       "[(-4.796873982084583, 'Iris-setosa'),\n",
       " (-4.701063709417263, 'Iris-setosa'),\n",
       " (-4.7455242070818695, 'Iris-setosa'),\n",
       " (-4.699999999999999, 'Iris-setosa'),\n",
       " (-4.28485705712571, 'Iris-setosa')]"
      ]
     },
     "execution_count": 98,
     "metadata": {},
     "output_type": "execute_result"
    },
    {
     "data": {
      "text/plain": [
       "(-4.796873982084583, 'Iris-setosa')"
      ]
     },
     "execution_count": 98,
     "metadata": {},
     "output_type": "execute_result"
    },
    {
     "data": {
      "text/plain": [
       "[(-4.7455242070818695, 'Iris-setosa'),\n",
       " (-4.701063709417263, 'Iris-setosa'),\n",
       " (-4.598912915026768, 'Iris-setosa'),\n",
       " (-4.699999999999999, 'Iris-setosa'),\n",
       " (-4.28485705712571, 'Iris-setosa')]"
      ]
     },
     "execution_count": 98,
     "metadata": {},
     "output_type": "execute_result"
    },
    {
     "data": {
      "text/plain": [
       "[(-4.7455242070818695, 'Iris-setosa'),\n",
       " (-4.701063709417263, 'Iris-setosa'),\n",
       " (-4.598912915026768, 'Iris-setosa'),\n",
       " (-4.699999999999999, 'Iris-setosa'),\n",
       " (-4.28485705712571, 'Iris-setosa')]"
      ]
     },
     "execution_count": 98,
     "metadata": {},
     "output_type": "execute_result"
    },
    {
     "data": {
      "text/plain": [
       "(-4.7455242070818695, 'Iris-setosa')"
      ]
     },
     "execution_count": 98,
     "metadata": {},
     "output_type": "execute_result"
    },
    {
     "data": {
      "text/plain": [
       "[(-4.701063709417263, 'Iris-setosa'),\n",
       " (-4.699999999999999, 'Iris-setosa'),\n",
       " (-4.666904755831214, 'Iris-setosa'),\n",
       " (-4.598912915026768, 'Iris-setosa'),\n",
       " (-4.28485705712571, 'Iris-setosa')]"
      ]
     },
     "execution_count": 98,
     "metadata": {},
     "output_type": "execute_result"
    },
    {
     "data": {
      "text/plain": [
       "(-4.701063709417263, 'Iris-setosa')"
      ]
     },
     "execution_count": 98,
     "metadata": {},
     "output_type": "execute_result"
    },
    {
     "data": {
      "text/plain": [
       "[(-4.699999999999999, 'Iris-setosa'),\n",
       " (-4.598912915026768, 'Iris-setosa'),\n",
       " (-4.666904755831214, 'Iris-setosa'),\n",
       " (-4.503332099679081, 'Iris-setosa'),\n",
       " (-4.28485705712571, 'Iris-setosa')]"
      ]
     },
     "execution_count": 98,
     "metadata": {},
     "output_type": "execute_result"
    },
    {
     "data": {
      "text/plain": [
       "(-4.699999999999999, 'Iris-setosa')"
      ]
     },
     "execution_count": 98,
     "metadata": {},
     "output_type": "execute_result"
    },
    {
     "data": {
      "text/plain": [
       "[(-4.666904755831214, 'Iris-setosa'),\n",
       " (-4.598912915026768, 'Iris-setosa'),\n",
       " (-4.59782557302906, 'Iris-setosa'),\n",
       " (-4.503332099679081, 'Iris-setosa'),\n",
       " (-4.28485705712571, 'Iris-setosa')]"
      ]
     },
     "execution_count": 98,
     "metadata": {},
     "output_type": "execute_result"
    },
    {
     "data": {
      "text/plain": [
       "[(-4.666904755831214, 'Iris-setosa'),\n",
       " (-4.598912915026768, 'Iris-setosa'),\n",
       " (-4.59782557302906, 'Iris-setosa'),\n",
       " (-4.503332099679081, 'Iris-setosa'),\n",
       " (-4.28485705712571, 'Iris-setosa')]"
      ]
     },
     "execution_count": 98,
     "metadata": {},
     "output_type": "execute_result"
    },
    {
     "data": {
      "text/plain": [
       "[(-4.666904755831214, 'Iris-setosa'),\n",
       " (-4.598912915026768, 'Iris-setosa'),\n",
       " (-4.59782557302906, 'Iris-setosa'),\n",
       " (-4.503332099679081, 'Iris-setosa'),\n",
       " (-4.28485705712571, 'Iris-setosa')]"
      ]
     },
     "execution_count": 98,
     "metadata": {},
     "output_type": "execute_result"
    },
    {
     "data": {
      "text/plain": [
       "[(-4.666904755831214, 'Iris-setosa'),\n",
       " (-4.598912915026768, 'Iris-setosa'),\n",
       " (-4.59782557302906, 'Iris-setosa'),\n",
       " (-4.503332099679081, 'Iris-setosa'),\n",
       " (-4.28485705712571, 'Iris-setosa')]"
      ]
     },
     "execution_count": 98,
     "metadata": {},
     "output_type": "execute_result"
    },
    {
     "data": {
      "text/plain": [
       "(-4.666904755831214, 'Iris-setosa')"
      ]
     },
     "execution_count": 98,
     "metadata": {},
     "output_type": "execute_result"
    },
    {
     "data": {
      "text/plain": [
       "[(-4.598912915026768, 'Iris-setosa'),\n",
       " (-4.503332099679081, 'Iris-setosa'),\n",
       " (-4.59782557302906, 'Iris-setosa'),\n",
       " (-4.50111097397076, 'Iris-setosa'),\n",
       " (-4.28485705712571, 'Iris-setosa')]"
      ]
     },
     "execution_count": 98,
     "metadata": {},
     "output_type": "execute_result"
    },
    {
     "data": {
      "text/plain": [
       "[(-4.598912915026768, 'Iris-setosa'),\n",
       " (-4.503332099679081, 'Iris-setosa'),\n",
       " (-4.59782557302906, 'Iris-setosa'),\n",
       " (-4.50111097397076, 'Iris-setosa'),\n",
       " (-4.28485705712571, 'Iris-setosa')]"
      ]
     },
     "execution_count": 98,
     "metadata": {},
     "output_type": "execute_result"
    },
    {
     "data": {
      "text/plain": [
       "[(-4.598912915026768, 'Iris-setosa'),\n",
       " (-4.503332099679081, 'Iris-setosa'),\n",
       " (-4.59782557302906, 'Iris-setosa'),\n",
       " (-4.50111097397076, 'Iris-setosa'),\n",
       " (-4.28485705712571, 'Iris-setosa')]"
      ]
     },
     "execution_count": 98,
     "metadata": {},
     "output_type": "execute_result"
    },
    {
     "data": {
      "text/plain": [
       "(-4.598912915026768, 'Iris-setosa')"
      ]
     },
     "execution_count": 98,
     "metadata": {},
     "output_type": "execute_result"
    },
    {
     "data": {
      "text/plain": [
       "[(-4.59782557302906, 'Iris-setosa'),\n",
       " (-4.503332099679081, 'Iris-setosa'),\n",
       " (-4.2296571965113205, 'Iris-setosa'),\n",
       " (-4.50111097397076, 'Iris-setosa'),\n",
       " (-4.28485705712571, 'Iris-setosa')]"
      ]
     },
     "execution_count": 98,
     "metadata": {},
     "output_type": "execute_result"
    },
    {
     "data": {
      "text/plain": [
       "(-4.59782557302906, 'Iris-setosa')"
      ]
     },
     "execution_count": 98,
     "metadata": {},
     "output_type": "execute_result"
    },
    {
     "data": {
      "text/plain": [
       "[(-4.570557952810576, 'Iris-setosa'),\n",
       " (-4.503332099679081, 'Iris-setosa'),\n",
       " (-4.2296571965113205, 'Iris-setosa'),\n",
       " (-4.50111097397076, 'Iris-setosa'),\n",
       " (-4.28485705712571, 'Iris-setosa')]"
      ]
     },
     "execution_count": 98,
     "metadata": {},
     "output_type": "execute_result"
    },
    {
     "data": {
      "text/plain": [
       "(-4.570557952810576, 'Iris-setosa')"
      ]
     },
     "execution_count": 98,
     "metadata": {},
     "output_type": "execute_result"
    },
    {
     "data": {
      "text/plain": [
       "[(-4.503332099679081, 'Iris-setosa'),\n",
       " (-4.50111097397076, 'Iris-setosa'),\n",
       " (-4.302324952859791, 'Iris-setosa'),\n",
       " (-4.2296571965113205, 'Iris-setosa'),\n",
       " (-4.28485705712571, 'Iris-setosa')]"
      ]
     },
     "execution_count": 98,
     "metadata": {},
     "output_type": "execute_result"
    },
    {
     "data": {
      "text/plain": [
       "[(-4.503332099679081, 'Iris-setosa'),\n",
       " (-4.50111097397076, 'Iris-setosa'),\n",
       " (-4.302324952859791, 'Iris-setosa'),\n",
       " (-4.2296571965113205, 'Iris-setosa'),\n",
       " (-4.28485705712571, 'Iris-setosa')]"
      ]
     },
     "execution_count": 98,
     "metadata": {},
     "output_type": "execute_result"
    },
    {
     "data": {
      "text/plain": [
       "[(-4.503332099679081, 'Iris-setosa'),\n",
       " (-4.50111097397076, 'Iris-setosa'),\n",
       " (-4.302324952859791, 'Iris-setosa'),\n",
       " (-4.2296571965113205, 'Iris-setosa'),\n",
       " (-4.28485705712571, 'Iris-setosa')]"
      ]
     },
     "execution_count": 98,
     "metadata": {},
     "output_type": "execute_result"
    },
    {
     "data": {
      "text/plain": [
       "(-4.503332099679081, 'Iris-setosa')"
      ]
     },
     "execution_count": 98,
     "metadata": {},
     "output_type": "execute_result"
    },
    {
     "data": {
      "text/plain": [
       "[(-4.50111097397076, 'Iris-setosa'),\n",
       " (-4.28485705712571, 'Iris-setosa'),\n",
       " (-4.302324952859791, 'Iris-setosa'),\n",
       " (-4.2296571965113205, 'Iris-setosa'),\n",
       " (-4.259107887809371, 'Iris-setosa')]"
      ]
     },
     "execution_count": 98,
     "metadata": {},
     "output_type": "execute_result"
    },
    {
     "data": {
      "text/plain": [
       "(-4.50111097397076, 'Iris-setosa')"
      ]
     },
     "execution_count": 98,
     "metadata": {},
     "output_type": "execute_result"
    },
    {
     "data": {
      "text/plain": [
       "[(-4.36692111217961, 'Iris-setosa'),\n",
       " (-4.28485705712571, 'Iris-setosa'),\n",
       " (-4.302324952859791, 'Iris-setosa'),\n",
       " (-4.2296571965113205, 'Iris-setosa'),\n",
       " (-4.259107887809371, 'Iris-setosa')]"
      ]
     },
     "execution_count": 98,
     "metadata": {},
     "output_type": "execute_result"
    },
    {
     "data": {
      "text/plain": [
       "[(-4.36692111217961, 'Iris-setosa'),\n",
       " (-4.28485705712571, 'Iris-setosa'),\n",
       " (-4.302324952859791, 'Iris-setosa'),\n",
       " (-4.2296571965113205, 'Iris-setosa'),\n",
       " (-4.259107887809371, 'Iris-setosa')]"
      ]
     },
     "execution_count": 98,
     "metadata": {},
     "output_type": "execute_result"
    },
    {
     "data": {
      "text/plain": [
       "[(-4.36692111217961, 'Iris-setosa'),\n",
       " (-4.28485705712571, 'Iris-setosa'),\n",
       " (-4.302324952859791, 'Iris-setosa'),\n",
       " (-4.2296571965113205, 'Iris-setosa'),\n",
       " (-4.259107887809371, 'Iris-setosa')]"
      ]
     },
     "execution_count": 98,
     "metadata": {},
     "output_type": "execute_result"
    },
    {
     "data": {
      "text/plain": [
       "[(-4.36692111217961, 'Iris-setosa'),\n",
       " (-4.28485705712571, 'Iris-setosa'),\n",
       " (-4.302324952859791, 'Iris-setosa'),\n",
       " (-4.2296571965113205, 'Iris-setosa'),\n",
       " (-4.259107887809371, 'Iris-setosa')]"
      ]
     },
     "execution_count": 98,
     "metadata": {},
     "output_type": "execute_result"
    },
    {
     "data": {
      "text/plain": [
       "[(-4.36692111217961, 'Iris-setosa'),\n",
       " (-4.28485705712571, 'Iris-setosa'),\n",
       " (-4.302324952859791, 'Iris-setosa'),\n",
       " (-4.2296571965113205, 'Iris-setosa'),\n",
       " (-4.259107887809371, 'Iris-setosa')]"
      ]
     },
     "execution_count": 98,
     "metadata": {},
     "output_type": "execute_result"
    },
    {
     "data": {
      "text/plain": [
       "[(-4.36692111217961, 'Iris-setosa'),\n",
       " (-4.28485705712571, 'Iris-setosa'),\n",
       " (-4.302324952859791, 'Iris-setosa'),\n",
       " (-4.2296571965113205, 'Iris-setosa'),\n",
       " (-4.259107887809371, 'Iris-setosa')]"
      ]
     },
     "execution_count": 98,
     "metadata": {},
     "output_type": "execute_result"
    },
    {
     "data": {
      "text/plain": [
       "[(-4.36692111217961, 'Iris-setosa'),\n",
       " (-4.28485705712571, 'Iris-setosa'),\n",
       " (-4.302324952859791, 'Iris-setosa'),\n",
       " (-4.2296571965113205, 'Iris-setosa'),\n",
       " (-4.259107887809371, 'Iris-setosa')]"
      ]
     },
     "execution_count": 98,
     "metadata": {},
     "output_type": "execute_result"
    },
    {
     "data": {
      "text/plain": [
       "[(-4.36692111217961, 'Iris-setosa'),\n",
       " (-4.28485705712571, 'Iris-setosa'),\n",
       " (-4.302324952859791, 'Iris-setosa'),\n",
       " (-4.2296571965113205, 'Iris-setosa'),\n",
       " (-4.259107887809371, 'Iris-setosa')]"
      ]
     },
     "execution_count": 98,
     "metadata": {},
     "output_type": "execute_result"
    },
    {
     "data": {
      "text/plain": [
       "[(-4.36692111217961, 'Iris-setosa'),\n",
       " (-4.28485705712571, 'Iris-setosa'),\n",
       " (-4.302324952859791, 'Iris-setosa'),\n",
       " (-4.2296571965113205, 'Iris-setosa'),\n",
       " (-4.259107887809371, 'Iris-setosa')]"
      ]
     },
     "execution_count": 98,
     "metadata": {},
     "output_type": "execute_result"
    },
    {
     "data": {
      "text/plain": [
       "[(-4.36692111217961, 'Iris-setosa'),\n",
       " (-4.28485705712571, 'Iris-setosa'),\n",
       " (-4.302324952859791, 'Iris-setosa'),\n",
       " (-4.2296571965113205, 'Iris-setosa'),\n",
       " (-4.259107887809371, 'Iris-setosa')]"
      ]
     },
     "execution_count": 98,
     "metadata": {},
     "output_type": "execute_result"
    },
    {
     "data": {
      "text/plain": [
       "[(-4.36692111217961, 'Iris-setosa'),\n",
       " (-4.28485705712571, 'Iris-setosa'),\n",
       " (-4.302324952859791, 'Iris-setosa'),\n",
       " (-4.2296571965113205, 'Iris-setosa'),\n",
       " (-4.259107887809371, 'Iris-setosa')]"
      ]
     },
     "execution_count": 98,
     "metadata": {},
     "output_type": "execute_result"
    },
    {
     "data": {
      "text/plain": [
       "[(-4.36692111217961, 'Iris-setosa'),\n",
       " (-4.28485705712571, 'Iris-setosa'),\n",
       " (-4.302324952859791, 'Iris-setosa'),\n",
       " (-4.2296571965113205, 'Iris-setosa'),\n",
       " (-4.259107887809371, 'Iris-setosa')]"
      ]
     },
     "execution_count": 98,
     "metadata": {},
     "output_type": "execute_result"
    },
    {
     "data": {
      "text/plain": [
       "[(-4.36692111217961, 'Iris-setosa'),\n",
       " (-4.28485705712571, 'Iris-setosa'),\n",
       " (-4.302324952859791, 'Iris-setosa'),\n",
       " (-4.2296571965113205, 'Iris-setosa'),\n",
       " (-4.259107887809371, 'Iris-setosa')]"
      ]
     },
     "execution_count": 98,
     "metadata": {},
     "output_type": "execute_result"
    },
    {
     "data": {
      "text/plain": [
       "[(-4.36692111217961, 'Iris-setosa'),\n",
       " (-4.28485705712571, 'Iris-setosa'),\n",
       " (-4.302324952859791, 'Iris-setosa'),\n",
       " (-4.2296571965113205, 'Iris-setosa'),\n",
       " (-4.259107887809371, 'Iris-setosa')]"
      ]
     },
     "execution_count": 98,
     "metadata": {},
     "output_type": "execute_result"
    },
    {
     "data": {
      "text/plain": [
       "[(-4.36692111217961, 'Iris-setosa'),\n",
       " (-4.28485705712571, 'Iris-setosa'),\n",
       " (-4.302324952859791, 'Iris-setosa'),\n",
       " (-4.2296571965113205, 'Iris-setosa'),\n",
       " (-4.259107887809371, 'Iris-setosa')]"
      ]
     },
     "execution_count": 98,
     "metadata": {},
     "output_type": "execute_result"
    },
    {
     "data": {
      "text/plain": [
       "[(-4.36692111217961, 'Iris-setosa'),\n",
       " (-4.28485705712571, 'Iris-setosa'),\n",
       " (-4.302324952859791, 'Iris-setosa'),\n",
       " (-4.2296571965113205, 'Iris-setosa'),\n",
       " (-4.259107887809371, 'Iris-setosa')]"
      ]
     },
     "execution_count": 98,
     "metadata": {},
     "output_type": "execute_result"
    },
    {
     "data": {
      "text/plain": [
       "[(-4.36692111217961, 'Iris-setosa'),\n",
       " (-4.28485705712571, 'Iris-setosa'),\n",
       " (-4.302324952859791, 'Iris-setosa'),\n",
       " (-4.2296571965113205, 'Iris-setosa'),\n",
       " (-4.259107887809371, 'Iris-setosa')]"
      ]
     },
     "execution_count": 98,
     "metadata": {},
     "output_type": "execute_result"
    },
    {
     "data": {
      "text/plain": [
       "[(-4.36692111217961, 'Iris-setosa'),\n",
       " (-4.28485705712571, 'Iris-setosa'),\n",
       " (-4.302324952859791, 'Iris-setosa'),\n",
       " (-4.2296571965113205, 'Iris-setosa'),\n",
       " (-4.259107887809371, 'Iris-setosa')]"
      ]
     },
     "execution_count": 98,
     "metadata": {},
     "output_type": "execute_result"
    },
    {
     "data": {
      "text/plain": [
       "[(-4.36692111217961, 'Iris-setosa'),\n",
       " (-4.28485705712571, 'Iris-setosa'),\n",
       " (-4.302324952859791, 'Iris-setosa'),\n",
       " (-4.2296571965113205, 'Iris-setosa'),\n",
       " (-4.259107887809371, 'Iris-setosa')]"
      ]
     },
     "execution_count": 98,
     "metadata": {},
     "output_type": "execute_result"
    },
    {
     "data": {
      "text/plain": [
       "(-4.36692111217961, 'Iris-setosa')"
      ]
     },
     "execution_count": 98,
     "metadata": {},
     "output_type": "execute_result"
    },
    {
     "data": {
      "text/plain": [
       "[(-4.357751713900186, 'Iris-setosa'),\n",
       " (-4.28485705712571, 'Iris-setosa'),\n",
       " (-4.302324952859791, 'Iris-setosa'),\n",
       " (-4.2296571965113205, 'Iris-setosa'),\n",
       " (-4.259107887809371, 'Iris-setosa')]"
      ]
     },
     "execution_count": 98,
     "metadata": {},
     "output_type": "execute_result"
    },
    {
     "data": {
      "text/plain": [
       "(-4.357751713900186, 'Iris-setosa')"
      ]
     },
     "execution_count": 98,
     "metadata": {},
     "output_type": "execute_result"
    },
    {
     "data": {
      "text/plain": [
       "[(-4.302324952859791, 'Iris-setosa'),\n",
       " (-4.28485705712571, 'Iris-setosa'),\n",
       " (-4.207136793592526, 'Iris-setosa'),\n",
       " (-4.2296571965113205, 'Iris-setosa'),\n",
       " (-4.259107887809371, 'Iris-setosa')]"
      ]
     },
     "execution_count": 98,
     "metadata": {},
     "output_type": "execute_result"
    },
    {
     "data": {
      "text/plain": [
       "[(-4.302324952859791, 'Iris-setosa'),\n",
       " (-4.28485705712571, 'Iris-setosa'),\n",
       " (-4.207136793592526, 'Iris-setosa'),\n",
       " (-4.2296571965113205, 'Iris-setosa'),\n",
       " (-4.259107887809371, 'Iris-setosa')]"
      ]
     },
     "execution_count": 98,
     "metadata": {},
     "output_type": "execute_result"
    },
    {
     "data": {
      "text/plain": [
       "[(-4.302324952859791, 'Iris-setosa'),\n",
       " (-4.28485705712571, 'Iris-setosa'),\n",
       " (-4.207136793592526, 'Iris-setosa'),\n",
       " (-4.2296571965113205, 'Iris-setosa'),\n",
       " (-4.259107887809371, 'Iris-setosa')]"
      ]
     },
     "execution_count": 98,
     "metadata": {},
     "output_type": "execute_result"
    },
    {
     "data": {
      "text/plain": [
       "[(-4.302324952859791, 'Iris-setosa'),\n",
       " (-4.28485705712571, 'Iris-setosa'),\n",
       " (-4.207136793592526, 'Iris-setosa'),\n",
       " (-4.2296571965113205, 'Iris-setosa'),\n",
       " (-4.259107887809371, 'Iris-setosa')]"
      ]
     },
     "execution_count": 98,
     "metadata": {},
     "output_type": "execute_result"
    },
    {
     "data": {
      "text/plain": [
       "[(-4.302324952859791, 'Iris-setosa'),\n",
       " (-4.28485705712571, 'Iris-setosa'),\n",
       " (-4.207136793592526, 'Iris-setosa'),\n",
       " (-4.2296571965113205, 'Iris-setosa'),\n",
       " (-4.259107887809371, 'Iris-setosa')]"
      ]
     },
     "execution_count": 98,
     "metadata": {},
     "output_type": "execute_result"
    },
    {
     "data": {
      "text/plain": [
       "[(-4.302324952859791, 'Iris-setosa'),\n",
       " (-4.28485705712571, 'Iris-setosa'),\n",
       " (-4.207136793592526, 'Iris-setosa'),\n",
       " (-4.2296571965113205, 'Iris-setosa'),\n",
       " (-4.259107887809371, 'Iris-setosa')]"
      ]
     },
     "execution_count": 98,
     "metadata": {},
     "output_type": "execute_result"
    },
    {
     "data": {
      "text/plain": [
       "(-4.302324952859791, 'Iris-setosa')"
      ]
     },
     "execution_count": 98,
     "metadata": {},
     "output_type": "execute_result"
    },
    {
     "data": {
      "text/plain": [
       "[(-4.28485705712571, 'Iris-setosa'),\n",
       " (-4.259107887809371, 'Iris-setosa'),\n",
       " (-4.207136793592526, 'Iris-setosa'),\n",
       " (-4.2296571965113205, 'Iris-setosa'),\n",
       " (-1.0908712114635715, 'Iris-versicolor')]"
      ]
     },
     "execution_count": 98,
     "metadata": {},
     "output_type": "execute_result"
    },
    {
     "data": {
      "text/plain": [
       "(-4.28485705712571, 'Iris-setosa')"
      ]
     },
     "execution_count": 98,
     "metadata": {},
     "output_type": "execute_result"
    },
    {
     "data": {
      "text/plain": [
       "[(-4.259107887809371, 'Iris-setosa'),\n",
       " (-4.2296571965113205, 'Iris-setosa'),\n",
       " (-4.207136793592526, 'Iris-setosa'),\n",
       " (-1.1224972160321822, 'Iris-versicolor'),\n",
       " (-1.0908712114635715, 'Iris-versicolor')]"
      ]
     },
     "execution_count": 98,
     "metadata": {},
     "output_type": "execute_result"
    },
    {
     "data": {
      "text/plain": [
       "(-4.259107887809371, 'Iris-setosa')"
      ]
     },
     "execution_count": 98,
     "metadata": {},
     "output_type": "execute_result"
    },
    {
     "data": {
      "text/plain": [
       "[(-4.2296571965113205, 'Iris-setosa'),\n",
       " (-1.1224972160321822, 'Iris-versicolor'),\n",
       " (-4.207136793592526, 'Iris-setosa'),\n",
       " (-0.8831760866327845, 'Iris-versicolor'),\n",
       " (-1.0908712114635715, 'Iris-versicolor')]"
      ]
     },
     "execution_count": 98,
     "metadata": {},
     "output_type": "execute_result"
    },
    {
     "data": {
      "text/plain": [
       "(-4.2296571965113205, 'Iris-setosa')"
      ]
     },
     "execution_count": 98,
     "metadata": {},
     "output_type": "execute_result"
    },
    {
     "data": {
      "text/plain": [
       "[(-4.207136793592526, 'Iris-setosa'),\n",
       " (-1.1224972160321822, 'Iris-versicolor'),\n",
       " (-2.0904544960366875, 'Iris-versicolor'),\n",
       " (-0.8831760866327845, 'Iris-versicolor'),\n",
       " (-1.0908712114635715, 'Iris-versicolor')]"
      ]
     },
     "execution_count": 98,
     "metadata": {},
     "output_type": "execute_result"
    },
    {
     "data": {
      "text/plain": [
       "(-4.207136793592526, 'Iris-setosa')"
      ]
     },
     "execution_count": 98,
     "metadata": {},
     "output_type": "execute_result"
    },
    {
     "data": {
      "text/plain": [
       "[(-2.0904544960366875, 'Iris-versicolor'),\n",
       " (-1.1224972160321822, 'Iris-versicolor'),\n",
       " (-1.0392304845413267, 'Iris-versicolor'),\n",
       " (-0.8831760866327845, 'Iris-versicolor'),\n",
       " (-1.0908712114635715, 'Iris-versicolor')]"
      ]
     },
     "execution_count": 98,
     "metadata": {},
     "output_type": "execute_result"
    },
    {
     "data": {
      "text/plain": [
       "(-2.0904544960366875, 'Iris-versicolor')"
      ]
     },
     "execution_count": 98,
     "metadata": {},
     "output_type": "execute_result"
    },
    {
     "data": {
      "text/plain": [
       "[(-1.5905973720586866, 'Iris-versicolor'),\n",
       " (-1.1224972160321822, 'Iris-versicolor'),\n",
       " (-1.0392304845413267, 'Iris-versicolor'),\n",
       " (-0.8831760866327845, 'Iris-versicolor'),\n",
       " (-1.0908712114635715, 'Iris-versicolor')]"
      ]
     },
     "execution_count": 98,
     "metadata": {},
     "output_type": "execute_result"
    },
    {
     "data": {
      "text/plain": [
       "(-1.5905973720586866, 'Iris-versicolor')"
      ]
     },
     "execution_count": 98,
     "metadata": {},
     "output_type": "execute_result"
    },
    {
     "data": {
      "text/plain": [
       "[(-1.1224972160321822, 'Iris-versicolor'),\n",
       " (-1.0908712114635715, 'Iris-versicolor'),\n",
       " (-1.0392304845413267, 'Iris-versicolor'),\n",
       " (-0.8831760866327845, 'Iris-versicolor'),\n",
       " (-0.9949874371066199, 'Iris-versicolor')]"
      ]
     },
     "execution_count": 98,
     "metadata": {},
     "output_type": "execute_result"
    },
    {
     "data": {
      "text/plain": [
       "[(-1.1224972160321822, 'Iris-versicolor'),\n",
       " (-1.0908712114635715, 'Iris-versicolor'),\n",
       " (-1.0392304845413267, 'Iris-versicolor'),\n",
       " (-0.8831760866327845, 'Iris-versicolor'),\n",
       " (-0.9949874371066199, 'Iris-versicolor')]"
      ]
     },
     "execution_count": 98,
     "metadata": {},
     "output_type": "execute_result"
    },
    {
     "data": {
      "text/plain": [
       "[(-1.1224972160321822, 'Iris-versicolor'),\n",
       " (-1.0908712114635715, 'Iris-versicolor'),\n",
       " (-1.0392304845413267, 'Iris-versicolor'),\n",
       " (-0.8831760866327845, 'Iris-versicolor'),\n",
       " (-0.9949874371066199, 'Iris-versicolor')]"
      ]
     },
     "execution_count": 98,
     "metadata": {},
     "output_type": "execute_result"
    },
    {
     "data": {
      "text/plain": [
       "[(-1.1224972160321822, 'Iris-versicolor'),\n",
       " (-1.0908712114635715, 'Iris-versicolor'),\n",
       " (-1.0392304845413267, 'Iris-versicolor'),\n",
       " (-0.8831760866327845, 'Iris-versicolor'),\n",
       " (-0.9949874371066199, 'Iris-versicolor')]"
      ]
     },
     "execution_count": 98,
     "metadata": {},
     "output_type": "execute_result"
    },
    {
     "data": {
      "text/plain": [
       "[(-1.1224972160321822, 'Iris-versicolor'),\n",
       " (-1.0908712114635715, 'Iris-versicolor'),\n",
       " (-1.0392304845413267, 'Iris-versicolor'),\n",
       " (-0.8831760866327845, 'Iris-versicolor'),\n",
       " (-0.9949874371066199, 'Iris-versicolor')]"
      ]
     },
     "execution_count": 98,
     "metadata": {},
     "output_type": "execute_result"
    },
    {
     "data": {
      "text/plain": [
       "[(-1.1224972160321822, 'Iris-versicolor'),\n",
       " (-1.0908712114635715, 'Iris-versicolor'),\n",
       " (-1.0392304845413267, 'Iris-versicolor'),\n",
       " (-0.8831760866327845, 'Iris-versicolor'),\n",
       " (-0.9949874371066199, 'Iris-versicolor')]"
      ]
     },
     "execution_count": 98,
     "metadata": {},
     "output_type": "execute_result"
    },
    {
     "data": {
      "text/plain": [
       "[(-1.1224972160321822, 'Iris-versicolor'),\n",
       " (-1.0908712114635715, 'Iris-versicolor'),\n",
       " (-1.0392304845413267, 'Iris-versicolor'),\n",
       " (-0.8831760866327845, 'Iris-versicolor'),\n",
       " (-0.9949874371066199, 'Iris-versicolor')]"
      ]
     },
     "execution_count": 98,
     "metadata": {},
     "output_type": "execute_result"
    },
    {
     "data": {
      "text/plain": [
       "[(-1.1224972160321822, 'Iris-versicolor'),\n",
       " (-1.0908712114635715, 'Iris-versicolor'),\n",
       " (-1.0392304845413267, 'Iris-versicolor'),\n",
       " (-0.8831760866327845, 'Iris-versicolor'),\n",
       " (-0.9949874371066199, 'Iris-versicolor')]"
      ]
     },
     "execution_count": 98,
     "metadata": {},
     "output_type": "execute_result"
    },
    {
     "data": {
      "text/plain": [
       "[(-1.1224972160321822, 'Iris-versicolor'),\n",
       " (-1.0908712114635715, 'Iris-versicolor'),\n",
       " (-1.0392304845413267, 'Iris-versicolor'),\n",
       " (-0.8831760866327845, 'Iris-versicolor'),\n",
       " (-0.9949874371066199, 'Iris-versicolor')]"
      ]
     },
     "execution_count": 98,
     "metadata": {},
     "output_type": "execute_result"
    },
    {
     "data": {
      "text/plain": [
       "[(-1.1224972160321822, 'Iris-versicolor'),\n",
       " (-1.0908712114635715, 'Iris-versicolor'),\n",
       " (-1.0392304845413267, 'Iris-versicolor'),\n",
       " (-0.8831760866327845, 'Iris-versicolor'),\n",
       " (-0.9949874371066199, 'Iris-versicolor')]"
      ]
     },
     "execution_count": 98,
     "metadata": {},
     "output_type": "execute_result"
    },
    {
     "data": {
      "text/plain": [
       "[(-1.1224972160321822, 'Iris-versicolor'),\n",
       " (-1.0908712114635715, 'Iris-versicolor'),\n",
       " (-1.0392304845413267, 'Iris-versicolor'),\n",
       " (-0.8831760866327845, 'Iris-versicolor'),\n",
       " (-0.9949874371066199, 'Iris-versicolor')]"
      ]
     },
     "execution_count": 98,
     "metadata": {},
     "output_type": "execute_result"
    },
    {
     "data": {
      "text/plain": [
       "[(-1.1224972160321822, 'Iris-versicolor'),\n",
       " (-1.0908712114635715, 'Iris-versicolor'),\n",
       " (-1.0392304845413267, 'Iris-versicolor'),\n",
       " (-0.8831760866327845, 'Iris-versicolor'),\n",
       " (-0.9949874371066199, 'Iris-versicolor')]"
      ]
     },
     "execution_count": 98,
     "metadata": {},
     "output_type": "execute_result"
    },
    {
     "data": {
      "text/plain": [
       "[(-1.1224972160321822, 'Iris-versicolor'),\n",
       " (-1.0908712114635715, 'Iris-versicolor'),\n",
       " (-1.0392304845413267, 'Iris-versicolor'),\n",
       " (-0.8831760866327845, 'Iris-versicolor'),\n",
       " (-0.9949874371066199, 'Iris-versicolor')]"
      ]
     },
     "execution_count": 98,
     "metadata": {},
     "output_type": "execute_result"
    },
    {
     "data": {
      "text/plain": [
       "[(-1.1224972160321822, 'Iris-versicolor'),\n",
       " (-1.0908712114635715, 'Iris-versicolor'),\n",
       " (-1.0392304845413267, 'Iris-versicolor'),\n",
       " (-0.8831760866327845, 'Iris-versicolor'),\n",
       " (-0.9949874371066199, 'Iris-versicolor')]"
      ]
     },
     "execution_count": 98,
     "metadata": {},
     "output_type": "execute_result"
    },
    {
     "data": {
      "text/plain": [
       "(-1.1224972160321822, 'Iris-versicolor')"
      ]
     },
     "execution_count": 98,
     "metadata": {},
     "output_type": "execute_result"
    },
    {
     "data": {
      "text/plain": [
       "[(-1.0908712114635715, 'Iris-versicolor'),\n",
       " (-1.0392304845413267, 'Iris-versicolor'),\n",
       " (-1.0440306508910548, 'Iris-versicolor'),\n",
       " (-0.8831760866327845, 'Iris-versicolor'),\n",
       " (-0.9949874371066199, 'Iris-versicolor')]"
      ]
     },
     "execution_count": 98,
     "metadata": {},
     "output_type": "execute_result"
    },
    {
     "data": {
      "text/plain": [
       "[(-1.0908712114635715, 'Iris-versicolor'),\n",
       " (-1.0392304845413267, 'Iris-versicolor'),\n",
       " (-1.0440306508910548, 'Iris-versicolor'),\n",
       " (-0.8831760866327845, 'Iris-versicolor'),\n",
       " (-0.9949874371066199, 'Iris-versicolor')]"
      ]
     },
     "execution_count": 98,
     "metadata": {},
     "output_type": "execute_result"
    },
    {
     "data": {
      "text/plain": [
       "(-1.0908712114635715, 'Iris-versicolor')"
      ]
     },
     "execution_count": 98,
     "metadata": {},
     "output_type": "execute_result"
    },
    {
     "data": {
      "text/plain": [
       "[(-1.067707825203131, 'Iris-versicolor'),\n",
       " (-1.0392304845413267, 'Iris-versicolor'),\n",
       " (-1.0440306508910548, 'Iris-versicolor'),\n",
       " (-0.8831760866327845, 'Iris-versicolor'),\n",
       " (-0.9949874371066199, 'Iris-versicolor')]"
      ]
     },
     "execution_count": 98,
     "metadata": {},
     "output_type": "execute_result"
    },
    {
     "data": {
      "text/plain": [
       "[(-1.067707825203131, 'Iris-versicolor'),\n",
       " (-1.0392304845413267, 'Iris-versicolor'),\n",
       " (-1.0440306508910548, 'Iris-versicolor'),\n",
       " (-0.8831760866327845, 'Iris-versicolor'),\n",
       " (-0.9949874371066199, 'Iris-versicolor')]"
      ]
     },
     "execution_count": 98,
     "metadata": {},
     "output_type": "execute_result"
    },
    {
     "data": {
      "text/plain": [
       "[(-1.067707825203131, 'Iris-versicolor'),\n",
       " (-1.0392304845413267, 'Iris-versicolor'),\n",
       " (-1.0440306508910548, 'Iris-versicolor'),\n",
       " (-0.8831760866327845, 'Iris-versicolor'),\n",
       " (-0.9949874371066199, 'Iris-versicolor')]"
      ]
     },
     "execution_count": 98,
     "metadata": {},
     "output_type": "execute_result"
    },
    {
     "data": {
      "text/plain": [
       "[(-1.067707825203131, 'Iris-versicolor'),\n",
       " (-1.0392304845413267, 'Iris-versicolor'),\n",
       " (-1.0440306508910548, 'Iris-versicolor'),\n",
       " (-0.8831760866327845, 'Iris-versicolor'),\n",
       " (-0.9949874371066199, 'Iris-versicolor')]"
      ]
     },
     "execution_count": 98,
     "metadata": {},
     "output_type": "execute_result"
    },
    {
     "data": {
      "text/plain": [
       "(-1.067707825203131, 'Iris-versicolor')"
      ]
     },
     "execution_count": 98,
     "metadata": {},
     "output_type": "execute_result"
    },
    {
     "data": {
      "text/plain": [
       "[(-1.0440306508910548, 'Iris-versicolor'),\n",
       " (-1.0392304845413267, 'Iris-versicolor'),\n",
       " (-1.0099504938362078, 'Iris-versicolor'),\n",
       " (-0.8831760866327845, 'Iris-versicolor'),\n",
       " (-0.9949874371066199, 'Iris-versicolor')]"
      ]
     },
     "execution_count": 98,
     "metadata": {},
     "output_type": "execute_result"
    },
    {
     "data": {
      "text/plain": [
       "(-1.0440306508910548, 'Iris-versicolor')"
      ]
     },
     "execution_count": 98,
     "metadata": {},
     "output_type": "execute_result"
    },
    {
     "data": {
      "text/plain": [
       "[(-1.0392304845413267, 'Iris-versicolor'),\n",
       " (-0.9949874371066199, 'Iris-versicolor'),\n",
       " (-1.0099504938362078, 'Iris-versicolor'),\n",
       " (-0.8831760866327845, 'Iris-versicolor'),\n",
       " (-0.6324555320336758, 'Iris-versicolor')]"
      ]
     },
     "execution_count": 98,
     "metadata": {},
     "output_type": "execute_result"
    },
    {
     "data": {
      "text/plain": [
       "[(-1.0392304845413267, 'Iris-versicolor'),\n",
       " (-0.9949874371066199, 'Iris-versicolor'),\n",
       " (-1.0099504938362078, 'Iris-versicolor'),\n",
       " (-0.8831760866327845, 'Iris-versicolor'),\n",
       " (-0.6324555320336758, 'Iris-versicolor')]"
      ]
     },
     "execution_count": 98,
     "metadata": {},
     "output_type": "execute_result"
    },
    {
     "data": {
      "text/plain": [
       "[(-1.0392304845413267, 'Iris-versicolor'),\n",
       " (-0.9949874371066199, 'Iris-versicolor'),\n",
       " (-1.0099504938362078, 'Iris-versicolor'),\n",
       " (-0.8831760866327845, 'Iris-versicolor'),\n",
       " (-0.6324555320336758, 'Iris-versicolor')]"
      ]
     },
     "execution_count": 98,
     "metadata": {},
     "output_type": "execute_result"
    },
    {
     "data": {
      "text/plain": [
       "[(-1.0392304845413267, 'Iris-versicolor'),\n",
       " (-0.9949874371066199, 'Iris-versicolor'),\n",
       " (-1.0099504938362078, 'Iris-versicolor'),\n",
       " (-0.8831760866327845, 'Iris-versicolor'),\n",
       " (-0.6324555320336758, 'Iris-versicolor')]"
      ]
     },
     "execution_count": 98,
     "metadata": {},
     "output_type": "execute_result"
    },
    {
     "data": {
      "text/plain": [
       "[(-1.0392304845413267, 'Iris-versicolor'),\n",
       " (-0.9949874371066199, 'Iris-versicolor'),\n",
       " (-1.0099504938362078, 'Iris-versicolor'),\n",
       " (-0.8831760866327845, 'Iris-versicolor'),\n",
       " (-0.6324555320336758, 'Iris-versicolor')]"
      ]
     },
     "execution_count": 98,
     "metadata": {},
     "output_type": "execute_result"
    },
    {
     "data": {
      "text/plain": [
       "[(-1.0392304845413267, 'Iris-versicolor'),\n",
       " (-0.9949874371066199, 'Iris-versicolor'),\n",
       " (-1.0099504938362078, 'Iris-versicolor'),\n",
       " (-0.8831760866327845, 'Iris-versicolor'),\n",
       " (-0.6324555320336758, 'Iris-versicolor')]"
      ]
     },
     "execution_count": 98,
     "metadata": {},
     "output_type": "execute_result"
    },
    {
     "data": {
      "text/plain": [
       "(-1.0392304845413267, 'Iris-versicolor')"
      ]
     },
     "execution_count": 98,
     "metadata": {},
     "output_type": "execute_result"
    },
    {
     "data": {
      "text/plain": [
       "[(-1.0392304845413263, 'Iris-versicolor'),\n",
       " (-0.9949874371066199, 'Iris-versicolor'),\n",
       " (-1.0099504938362078, 'Iris-versicolor'),\n",
       " (-0.8831760866327845, 'Iris-versicolor'),\n",
       " (-0.6324555320336758, 'Iris-versicolor')]"
      ]
     },
     "execution_count": 98,
     "metadata": {},
     "output_type": "execute_result"
    },
    {
     "data": {
      "text/plain": [
       "[(-1.0392304845413263, 'Iris-versicolor'),\n",
       " (-0.9949874371066199, 'Iris-versicolor'),\n",
       " (-1.0099504938362078, 'Iris-versicolor'),\n",
       " (-0.8831760866327845, 'Iris-versicolor'),\n",
       " (-0.6324555320336758, 'Iris-versicolor')]"
      ]
     },
     "execution_count": 98,
     "metadata": {},
     "output_type": "execute_result"
    },
    {
     "data": {
      "text/plain": [
       "[(-1.0392304845413263, 'Iris-versicolor'),\n",
       " (-0.9949874371066199, 'Iris-versicolor'),\n",
       " (-1.0099504938362078, 'Iris-versicolor'),\n",
       " (-0.8831760866327845, 'Iris-versicolor'),\n",
       " (-0.6324555320336758, 'Iris-versicolor')]"
      ]
     },
     "execution_count": 98,
     "metadata": {},
     "output_type": "execute_result"
    },
    {
     "data": {
      "text/plain": [
       "(-1.0392304845413263, 'Iris-versicolor')"
      ]
     },
     "execution_count": 98,
     "metadata": {},
     "output_type": "execute_result"
    },
    {
     "data": {
      "text/plain": [
       "[(-1.0099504938362078, 'Iris-versicolor'),\n",
       " (-0.9949874371066199, 'Iris-versicolor'),\n",
       " (-0.9486832980505137, 'Iris-versicolor'),\n",
       " (-0.8831760866327845, 'Iris-versicolor'),\n",
       " (-0.6324555320336758, 'Iris-versicolor')]"
      ]
     },
     "execution_count": 98,
     "metadata": {},
     "output_type": "execute_result"
    },
    {
     "data": {
      "text/plain": [
       "[(-1.0099504938362078, 'Iris-versicolor'),\n",
       " (-0.9949874371066199, 'Iris-versicolor'),\n",
       " (-0.9486832980505137, 'Iris-versicolor'),\n",
       " (-0.8831760866327845, 'Iris-versicolor'),\n",
       " (-0.6324555320336758, 'Iris-versicolor')]"
      ]
     },
     "execution_count": 98,
     "metadata": {},
     "output_type": "execute_result"
    },
    {
     "data": {
      "text/plain": [
       "[(-1.0099504938362078, 'Iris-versicolor'),\n",
       " (-0.9949874371066199, 'Iris-versicolor'),\n",
       " (-0.9486832980505137, 'Iris-versicolor'),\n",
       " (-0.8831760866327845, 'Iris-versicolor'),\n",
       " (-0.6324555320336758, 'Iris-versicolor')]"
      ]
     },
     "execution_count": 98,
     "metadata": {},
     "output_type": "execute_result"
    },
    {
     "data": {
      "text/plain": [
       "[(-1.0099504938362078, 'Iris-versicolor'),\n",
       " (-0.9949874371066199, 'Iris-versicolor'),\n",
       " (-0.9486832980505137, 'Iris-versicolor'),\n",
       " (-0.8831760866327845, 'Iris-versicolor'),\n",
       " (-0.6324555320336758, 'Iris-versicolor')]"
      ]
     },
     "execution_count": 98,
     "metadata": {},
     "output_type": "execute_result"
    },
    {
     "data": {
      "text/plain": [
       "[(-1.0099504938362078, 'Iris-versicolor'),\n",
       " (-0.9949874371066199, 'Iris-versicolor'),\n",
       " (-0.9486832980505137, 'Iris-versicolor'),\n",
       " (-0.8831760866327845, 'Iris-versicolor'),\n",
       " (-0.6324555320336758, 'Iris-versicolor')]"
      ]
     },
     "execution_count": 98,
     "metadata": {},
     "output_type": "execute_result"
    },
    {
     "data": {
      "text/plain": [
       "[(-1.0099504938362078, 'Iris-versicolor'),\n",
       " (-0.9949874371066199, 'Iris-versicolor'),\n",
       " (-0.9486832980505137, 'Iris-versicolor'),\n",
       " (-0.8831760866327845, 'Iris-versicolor'),\n",
       " (-0.6324555320336758, 'Iris-versicolor')]"
      ]
     },
     "execution_count": 98,
     "metadata": {},
     "output_type": "execute_result"
    },
    {
     "data": {
      "text/plain": [
       "[(-1.0099504938362078, 'Iris-versicolor'),\n",
       " (-0.9949874371066199, 'Iris-versicolor'),\n",
       " (-0.9486832980505137, 'Iris-versicolor'),\n",
       " (-0.8831760866327845, 'Iris-versicolor'),\n",
       " (-0.6324555320336758, 'Iris-versicolor')]"
      ]
     },
     "execution_count": 98,
     "metadata": {},
     "output_type": "execute_result"
    },
    {
     "data": {
      "text/plain": [
       "[(-1.0099504938362078, 'Iris-versicolor'),\n",
       " (-0.9949874371066199, 'Iris-versicolor'),\n",
       " (-0.9486832980505137, 'Iris-versicolor'),\n",
       " (-0.8831760866327845, 'Iris-versicolor'),\n",
       " (-0.6324555320336758, 'Iris-versicolor')]"
      ]
     },
     "execution_count": 98,
     "metadata": {},
     "output_type": "execute_result"
    },
    {
     "data": {
      "text/plain": [
       "[(-1.0099504938362078, 'Iris-versicolor'),\n",
       " (-0.9949874371066199, 'Iris-versicolor'),\n",
       " (-0.9486832980505137, 'Iris-versicolor'),\n",
       " (-0.8831760866327845, 'Iris-versicolor'),\n",
       " (-0.6324555320336758, 'Iris-versicolor')]"
      ]
     },
     "execution_count": 98,
     "metadata": {},
     "output_type": "execute_result"
    },
    {
     "data": {
      "text/plain": [
       "[(-1.0099504938362078, 'Iris-versicolor'),\n",
       " (-0.9949874371066199, 'Iris-versicolor'),\n",
       " (-0.9486832980505137, 'Iris-versicolor'),\n",
       " (-0.8831760866327845, 'Iris-versicolor'),\n",
       " (-0.6324555320336758, 'Iris-versicolor')]"
      ]
     },
     "execution_count": 98,
     "metadata": {},
     "output_type": "execute_result"
    },
    {
     "data": {
      "text/plain": [
       "[(-1.0099504938362078, 'Iris-versicolor'),\n",
       " (-0.9949874371066199, 'Iris-versicolor'),\n",
       " (-0.9486832980505137, 'Iris-versicolor'),\n",
       " (-0.8831760866327845, 'Iris-versicolor'),\n",
       " (-0.6324555320336758, 'Iris-versicolor')]"
      ]
     },
     "execution_count": 98,
     "metadata": {},
     "output_type": "execute_result"
    },
    {
     "data": {
      "text/plain": [
       "[(-1.0099504938362078, 'Iris-versicolor'),\n",
       " (-0.9949874371066199, 'Iris-versicolor'),\n",
       " (-0.9486832980505137, 'Iris-versicolor'),\n",
       " (-0.8831760866327845, 'Iris-versicolor'),\n",
       " (-0.6324555320336758, 'Iris-versicolor')]"
      ]
     },
     "execution_count": 98,
     "metadata": {},
     "output_type": "execute_result"
    },
    {
     "data": {
      "text/plain": [
       "[(-1.0099504938362078, 'Iris-versicolor'),\n",
       " (-0.9949874371066199, 'Iris-versicolor'),\n",
       " (-0.9486832980505137, 'Iris-versicolor'),\n",
       " (-0.8831760866327845, 'Iris-versicolor'),\n",
       " (-0.6324555320336758, 'Iris-versicolor')]"
      ]
     },
     "execution_count": 98,
     "metadata": {},
     "output_type": "execute_result"
    },
    {
     "data": {
      "text/plain": [
       "[(-1.0099504938362078, 'Iris-versicolor'),\n",
       " (-0.9949874371066199, 'Iris-versicolor'),\n",
       " (-0.9486832980505137, 'Iris-versicolor'),\n",
       " (-0.8831760866327845, 'Iris-versicolor'),\n",
       " (-0.6324555320336758, 'Iris-versicolor')]"
      ]
     },
     "execution_count": 98,
     "metadata": {},
     "output_type": "execute_result"
    },
    {
     "data": {
      "text/plain": [
       "(-1.0099504938362078, 'Iris-versicolor')"
      ]
     },
     "execution_count": 98,
     "metadata": {},
     "output_type": "execute_result"
    },
    {
     "data": {
      "text/plain": [
       "[(-0.9949874371066199, 'Iris-versicolor'),\n",
       " (-0.9486832980505137, 'Iris-versicolor'),\n",
       " (-0.9643650760992954, 'Iris-virginica'),\n",
       " (-0.8831760866327845, 'Iris-versicolor'),\n",
       " (-0.6324555320336758, 'Iris-versicolor')]"
      ]
     },
     "execution_count": 98,
     "metadata": {},
     "output_type": "execute_result"
    },
    {
     "data": {
      "text/plain": [
       "[(-0.9949874371066199, 'Iris-versicolor'),\n",
       " (-0.9486832980505137, 'Iris-versicolor'),\n",
       " (-0.9643650760992954, 'Iris-virginica'),\n",
       " (-0.8831760866327845, 'Iris-versicolor'),\n",
       " (-0.6324555320336758, 'Iris-versicolor')]"
      ]
     },
     "execution_count": 98,
     "metadata": {},
     "output_type": "execute_result"
    },
    {
     "data": {
      "text/plain": [
       "(-0.9949874371066199, 'Iris-versicolor')"
      ]
     },
     "execution_count": 98,
     "metadata": {},
     "output_type": "execute_result"
    },
    {
     "data": {
      "text/plain": [
       "[(-0.9643650760992954, 'Iris-virginica'),\n",
       " (-0.9486832980505137, 'Iris-versicolor'),\n",
       " (-0.8306623862918073, 'Iris-virginica'),\n",
       " (-0.8831760866327845, 'Iris-versicolor'),\n",
       " (-0.6324555320336758, 'Iris-versicolor')]"
      ]
     },
     "execution_count": 98,
     "metadata": {},
     "output_type": "execute_result"
    },
    {
     "data": {
      "text/plain": [
       "(-0.9643650760992954, 'Iris-virginica')"
      ]
     },
     "execution_count": 98,
     "metadata": {},
     "output_type": "execute_result"
    },
    {
     "data": {
      "text/plain": [
       "[(-0.9486832980505137, 'Iris-versicolor'),\n",
       " (-0.8831760866327845, 'Iris-versicolor'),\n",
       " (-0.8306623862918073, 'Iris-virginica'),\n",
       " (-0.7615773105863906, 'Iris-virginica'),\n",
       " (-0.6324555320336758, 'Iris-versicolor')]"
      ]
     },
     "execution_count": 98,
     "metadata": {},
     "output_type": "execute_result"
    },
    {
     "data": {
      "text/plain": [
       "(-0.9486832980505137, 'Iris-versicolor')"
      ]
     },
     "execution_count": 98,
     "metadata": {},
     "output_type": "execute_result"
    },
    {
     "data": {
      "text/plain": [
       "[(-0.8831760866327845, 'Iris-versicolor'),\n",
       " (-0.7615773105863906, 'Iris-virginica'),\n",
       " (-0.8306623862918073, 'Iris-virginica'),\n",
       " (-0.6403124237432846, 'Iris-virginica'),\n",
       " (-0.6324555320336758, 'Iris-versicolor')]"
      ]
     },
     "execution_count": 98,
     "metadata": {},
     "output_type": "execute_result"
    },
    {
     "data": {
      "text/plain": [
       "[(-0.8831760866327845, 'Iris-versicolor'),\n",
       " (-0.7615773105863906, 'Iris-virginica'),\n",
       " (-0.8306623862918073, 'Iris-virginica'),\n",
       " (-0.6403124237432846, 'Iris-virginica'),\n",
       " (-0.6324555320336758, 'Iris-versicolor')]"
      ]
     },
     "execution_count": 98,
     "metadata": {},
     "output_type": "execute_result"
    },
    {
     "data": {
      "text/plain": [
       "[(-0.8831760866327845, 'Iris-versicolor'),\n",
       " (-0.7615773105863906, 'Iris-virginica'),\n",
       " (-0.8306623862918073, 'Iris-virginica'),\n",
       " (-0.6403124237432846, 'Iris-virginica'),\n",
       " (-0.6324555320336758, 'Iris-versicolor')]"
      ]
     },
     "execution_count": 98,
     "metadata": {},
     "output_type": "execute_result"
    },
    {
     "data": {
      "text/plain": [
       "[(-0.8831760866327845, 'Iris-versicolor'),\n",
       " (-0.7615773105863906, 'Iris-virginica'),\n",
       " (-0.8306623862918073, 'Iris-virginica'),\n",
       " (-0.6403124237432846, 'Iris-virginica'),\n",
       " (-0.6324555320336758, 'Iris-versicolor')]"
      ]
     },
     "execution_count": 98,
     "metadata": {},
     "output_type": "execute_result"
    },
    {
     "data": {
      "text/plain": [
       "[(-0.8831760866327845, 'Iris-versicolor'),\n",
       " (-0.7615773105863906, 'Iris-virginica'),\n",
       " (-0.8306623862918073, 'Iris-virginica'),\n",
       " (-0.6403124237432846, 'Iris-virginica'),\n",
       " (-0.6324555320336758, 'Iris-versicolor')]"
      ]
     },
     "execution_count": 98,
     "metadata": {},
     "output_type": "execute_result"
    },
    {
     "data": {
      "text/plain": [
       "[(-0.8831760866327845, 'Iris-versicolor'),\n",
       " (-0.7615773105863906, 'Iris-virginica'),\n",
       " (-0.8306623862918073, 'Iris-virginica'),\n",
       " (-0.6403124237432846, 'Iris-virginica'),\n",
       " (-0.6324555320336758, 'Iris-versicolor')]"
      ]
     },
     "execution_count": 98,
     "metadata": {},
     "output_type": "execute_result"
    },
    {
     "data": {
      "text/plain": [
       "(-0.8831760866327845, 'Iris-versicolor')"
      ]
     },
     "execution_count": 98,
     "metadata": {},
     "output_type": "execute_result"
    },
    {
     "data": {
      "text/plain": [
       "[(-0.8306623862918073, 'Iris-virginica'),\n",
       " (-0.7615773105863906, 'Iris-virginica'),\n",
       " (-0.4242640687119287, 'Iris-virginica'),\n",
       " (-0.6403124237432846, 'Iris-virginica'),\n",
       " (-0.6324555320336758, 'Iris-versicolor')]"
      ]
     },
     "execution_count": 98,
     "metadata": {},
     "output_type": "execute_result"
    },
    {
     "data": {
      "text/plain": [
       "(-0.8306623862918073, 'Iris-virginica')"
      ]
     },
     "execution_count": 98,
     "metadata": {},
     "output_type": "execute_result"
    },
    {
     "data": {
      "text/plain": [
       "[(-0.7615773105863906, 'Iris-virginica'),\n",
       " (-0.6403124237432846, 'Iris-virginica'),\n",
       " (-0.5916079783099613, 'Iris-virginica'),\n",
       " (-0.4242640687119287, 'Iris-virginica'),\n",
       " (-0.6324555320336758, 'Iris-versicolor')]"
      ]
     },
     "execution_count": 98,
     "metadata": {},
     "output_type": "execute_result"
    },
    {
     "data": {
      "text/plain": [
       "(-0.7615773105863906, 'Iris-virginica')"
      ]
     },
     "execution_count": 98,
     "metadata": {},
     "output_type": "execute_result"
    },
    {
     "data": {
      "text/plain": [
       "[(-0.6403124237432846, 'Iris-virginica'),\n",
       " (-0.6324555320336758, 'Iris-versicolor'),\n",
       " (-0.5916079783099613, 'Iris-virginica'),\n",
       " (-0.4242640687119287, 'Iris-virginica'),\n",
       " (-0.3741657386773938, 'Iris-virginica')]"
      ]
     },
     "execution_count": 98,
     "metadata": {},
     "output_type": "execute_result"
    },
    {
     "data": {
      "text/plain": [
       "[(-0.6403124237432846, 'Iris-virginica'),\n",
       " (-0.6324555320336758, 'Iris-versicolor'),\n",
       " (-0.5916079783099613, 'Iris-virginica'),\n",
       " (-0.4242640687119287, 'Iris-virginica'),\n",
       " (-0.3741657386773938, 'Iris-virginica')]"
      ]
     },
     "execution_count": 98,
     "metadata": {},
     "output_type": "execute_result"
    },
    {
     "data": {
      "text/plain": [
       "[(-0.6403124237432846, 'Iris-virginica'),\n",
       " (-0.6324555320336758, 'Iris-versicolor'),\n",
       " (-0.5916079783099613, 'Iris-virginica'),\n",
       " (-0.4242640687119287, 'Iris-virginica'),\n",
       " (-0.3741657386773938, 'Iris-virginica')]"
      ]
     },
     "execution_count": 98,
     "metadata": {},
     "output_type": "execute_result"
    },
    {
     "data": {
      "text/plain": [
       "(-0.6403124237432846, 'Iris-virginica')"
      ]
     },
     "execution_count": 98,
     "metadata": {},
     "output_type": "execute_result"
    },
    {
     "data": {
      "text/plain": [
       "[(-0.6324555320336758, 'Iris-versicolor'),\n",
       " (-0.4242640687119287, 'Iris-virginica'),\n",
       " (-0.5916079783099613, 'Iris-virginica'),\n",
       " (-0.374165738677394, 'Iris-virginica'),\n",
       " (-0.3741657386773938, 'Iris-virginica')]"
      ]
     },
     "execution_count": 98,
     "metadata": {},
     "output_type": "execute_result"
    },
    {
     "data": {
      "text/plain": [
       "(-0.6324555320336758, 'Iris-versicolor')"
      ]
     },
     "execution_count": 98,
     "metadata": {},
     "output_type": "execute_result"
    },
    {
     "data": {
      "text/plain": [
       "[(-0.6164414002968974, 'Iris-virginica'),\n",
       " (-0.4242640687119287, 'Iris-virginica'),\n",
       " (-0.5916079783099613, 'Iris-virginica'),\n",
       " (-0.374165738677394, 'Iris-virginica'),\n",
       " (-0.3741657386773938, 'Iris-virginica')]"
      ]
     },
     "execution_count": 98,
     "metadata": {},
     "output_type": "execute_result"
    },
    {
     "data": {
      "text/plain": [
       "[(-0.6164414002968974, 'Iris-virginica'),\n",
       " (-0.4242640687119287, 'Iris-virginica'),\n",
       " (-0.5916079783099613, 'Iris-virginica'),\n",
       " (-0.374165738677394, 'Iris-virginica'),\n",
       " (-0.3741657386773938, 'Iris-virginica')]"
      ]
     },
     "execution_count": 98,
     "metadata": {},
     "output_type": "execute_result"
    },
    {
     "data": {
      "text/plain": [
       "[(-0.6164414002968974, 'Iris-virginica'),\n",
       " (-0.4242640687119287, 'Iris-virginica'),\n",
       " (-0.5916079783099613, 'Iris-virginica'),\n",
       " (-0.374165738677394, 'Iris-virginica'),\n",
       " (-0.3741657386773938, 'Iris-virginica')]"
      ]
     },
     "execution_count": 98,
     "metadata": {},
     "output_type": "execute_result"
    },
    {
     "data": {
      "text/plain": [
       "[(-0.6164414002968974, 'Iris-virginica'),\n",
       " (-0.4242640687119287, 'Iris-virginica'),\n",
       " (-0.5916079783099613, 'Iris-virginica'),\n",
       " (-0.374165738677394, 'Iris-virginica'),\n",
       " (-0.3741657386773938, 'Iris-virginica')]"
      ]
     },
     "execution_count": 98,
     "metadata": {},
     "output_type": "execute_result"
    },
    {
     "data": {
      "text/plain": [
       "(-0.6164414002968974, 'Iris-virginica')"
      ]
     },
     "execution_count": 98,
     "metadata": {},
     "output_type": "execute_result"
    },
    {
     "data": {
      "text/plain": [
       "[(-0.5916079783099613, 'Iris-virginica'),\n",
       " (-0.4242640687119287, 'Iris-virginica'),\n",
       " (-0.574456264653803, 'Iris-virginica'),\n",
       " (-0.374165738677394, 'Iris-virginica'),\n",
       " (-0.3741657386773938, 'Iris-virginica')]"
      ]
     },
     "execution_count": 98,
     "metadata": {},
     "output_type": "execute_result"
    },
    {
     "data": {
      "text/plain": [
       "[(-0.5916079783099613, 'Iris-virginica'),\n",
       " (-0.4242640687119287, 'Iris-virginica'),\n",
       " (-0.574456264653803, 'Iris-virginica'),\n",
       " (-0.374165738677394, 'Iris-virginica'),\n",
       " (-0.3741657386773938, 'Iris-virginica')]"
      ]
     },
     "execution_count": 98,
     "metadata": {},
     "output_type": "execute_result"
    },
    {
     "data": {
      "text/plain": [
       "[(-0.5916079783099613, 'Iris-virginica'),\n",
       " (-0.4242640687119287, 'Iris-virginica'),\n",
       " (-0.574456264653803, 'Iris-virginica'),\n",
       " (-0.374165738677394, 'Iris-virginica'),\n",
       " (-0.3741657386773938, 'Iris-virginica')]"
      ]
     },
     "execution_count": 98,
     "metadata": {},
     "output_type": "execute_result"
    },
    {
     "data": {
      "text/plain": [
       "[(-0.5916079783099613, 'Iris-virginica'),\n",
       " (-0.4242640687119287, 'Iris-virginica'),\n",
       " (-0.574456264653803, 'Iris-virginica'),\n",
       " (-0.374165738677394, 'Iris-virginica'),\n",
       " (-0.3741657386773938, 'Iris-virginica')]"
      ]
     },
     "execution_count": 98,
     "metadata": {},
     "output_type": "execute_result"
    },
    {
     "data": {
      "text/plain": [
       "[(-0.5916079783099613, 'Iris-virginica'),\n",
       " (-0.4242640687119287, 'Iris-virginica'),\n",
       " (-0.574456264653803, 'Iris-virginica'),\n",
       " (-0.374165738677394, 'Iris-virginica'),\n",
       " (-0.3741657386773938, 'Iris-virginica')]"
      ]
     },
     "execution_count": 98,
     "metadata": {},
     "output_type": "execute_result"
    },
    {
     "data": {
      "text/plain": [
       "[(-0.5916079783099613, 'Iris-virginica'),\n",
       " (-0.4242640687119287, 'Iris-virginica'),\n",
       " (-0.574456264653803, 'Iris-virginica'),\n",
       " (-0.374165738677394, 'Iris-virginica'),\n",
       " (-0.3741657386773938, 'Iris-virginica')]"
      ]
     },
     "execution_count": 98,
     "metadata": {},
     "output_type": "execute_result"
    },
    {
     "data": {
      "text/plain": [
       "[(-0.5916079783099613, 'Iris-virginica'),\n",
       " (-0.4242640687119287, 'Iris-virginica'),\n",
       " (-0.574456264653803, 'Iris-virginica'),\n",
       " (-0.374165738677394, 'Iris-virginica'),\n",
       " (-0.3741657386773938, 'Iris-virginica')]"
      ]
     },
     "execution_count": 98,
     "metadata": {},
     "output_type": "execute_result"
    },
    {
     "data": {
      "text/plain": [
       "[(-0.5916079783099613, 'Iris-virginica'),\n",
       " (-0.4242640687119287, 'Iris-virginica'),\n",
       " (-0.574456264653803, 'Iris-virginica'),\n",
       " (-0.374165738677394, 'Iris-virginica'),\n",
       " (-0.3741657386773938, 'Iris-virginica')]"
      ]
     },
     "execution_count": 98,
     "metadata": {},
     "output_type": "execute_result"
    },
    {
     "data": {
      "text/plain": [
       "(-0.5916079783099613, 'Iris-virginica')"
      ]
     },
     "execution_count": 98,
     "metadata": {},
     "output_type": "execute_result"
    },
    {
     "data": {
      "text/plain": [
       "[(-0.574456264653803, 'Iris-virginica'),\n",
       " (-0.4242640687119287, 'Iris-virginica'),\n",
       " (-0.5744562646538024, 'Iris-virginica'),\n",
       " (-0.374165738677394, 'Iris-virginica'),\n",
       " (-0.3741657386773938, 'Iris-virginica')]"
      ]
     },
     "execution_count": 98,
     "metadata": {},
     "output_type": "execute_result"
    },
    {
     "data": {
      "text/plain": [
       "[(-0.574456264653803, 'Iris-virginica'),\n",
       " (-0.4242640687119287, 'Iris-virginica'),\n",
       " (-0.5744562646538024, 'Iris-virginica'),\n",
       " (-0.374165738677394, 'Iris-virginica'),\n",
       " (-0.3741657386773938, 'Iris-virginica')]"
      ]
     },
     "execution_count": 98,
     "metadata": {},
     "output_type": "execute_result"
    },
    {
     "data": {
      "text/plain": [
       "[(-0.574456264653803, 'Iris-virginica'),\n",
       " (-0.4242640687119287, 'Iris-virginica'),\n",
       " (-0.5744562646538024, 'Iris-virginica'),\n",
       " (-0.374165738677394, 'Iris-virginica'),\n",
       " (-0.3741657386773938, 'Iris-virginica')]"
      ]
     },
     "execution_count": 98,
     "metadata": {},
     "output_type": "execute_result"
    },
    {
     "data": {
      "text/plain": [
       "[(-0.574456264653803, 'Iris-virginica'),\n",
       " (-0.4242640687119287, 'Iris-virginica'),\n",
       " (-0.5744562646538024, 'Iris-virginica'),\n",
       " (-0.374165738677394, 'Iris-virginica'),\n",
       " (-0.3741657386773938, 'Iris-virginica')]"
      ]
     },
     "execution_count": 98,
     "metadata": {},
     "output_type": "execute_result"
    },
    {
     "data": {
      "text/plain": [
       "(-0.574456264653803, 'Iris-virginica')"
      ]
     },
     "execution_count": 98,
     "metadata": {},
     "output_type": "execute_result"
    },
    {
     "data": {
      "text/plain": [
       "[(-0.5744562646538024, 'Iris-virginica'),\n",
       " (-0.4242640687119287, 'Iris-virginica'),\n",
       " (-0.5477225575051657, 'Iris-virginica'),\n",
       " (-0.374165738677394, 'Iris-virginica'),\n",
       " (-0.3741657386773938, 'Iris-virginica')]"
      ]
     },
     "execution_count": 98,
     "metadata": {},
     "output_type": "execute_result"
    },
    {
     "data": {
      "text/plain": [
       "[(-0.5744562646538024, 'Iris-virginica'),\n",
       " (-0.4242640687119287, 'Iris-virginica'),\n",
       " (-0.5477225575051657, 'Iris-virginica'),\n",
       " (-0.374165738677394, 'Iris-virginica'),\n",
       " (-0.3741657386773938, 'Iris-virginica')]"
      ]
     },
     "execution_count": 98,
     "metadata": {},
     "output_type": "execute_result"
    },
    {
     "data": {
      "text/plain": [
       "[(-0.5744562646538024, 'Iris-virginica'),\n",
       " (-0.4242640687119287, 'Iris-virginica'),\n",
       " (-0.5477225575051657, 'Iris-virginica'),\n",
       " (-0.374165738677394, 'Iris-virginica'),\n",
       " (-0.3741657386773938, 'Iris-virginica')]"
      ]
     },
     "execution_count": 98,
     "metadata": {},
     "output_type": "execute_result"
    },
    {
     "data": {
      "text/plain": [
       "[(-0.5744562646538024, 'Iris-virginica'),\n",
       " (-0.4242640687119287, 'Iris-virginica'),\n",
       " (-0.5477225575051657, 'Iris-virginica'),\n",
       " (-0.374165738677394, 'Iris-virginica'),\n",
       " (-0.3741657386773938, 'Iris-virginica')]"
      ]
     },
     "execution_count": 98,
     "metadata": {},
     "output_type": "execute_result"
    },
    {
     "data": {
      "text/plain": [
       "[(-0.5744562646538024, 'Iris-virginica'),\n",
       " (-0.4242640687119287, 'Iris-virginica'),\n",
       " (-0.5477225575051657, 'Iris-virginica'),\n",
       " (-0.374165738677394, 'Iris-virginica'),\n",
       " (-0.3741657386773938, 'Iris-virginica')]"
      ]
     },
     "execution_count": 98,
     "metadata": {},
     "output_type": "execute_result"
    },
    {
     "data": {
      "text/plain": [
       "[(-0.5744562646538024, 'Iris-virginica'),\n",
       " (-0.4242640687119287, 'Iris-virginica'),\n",
       " (-0.5477225575051657, 'Iris-virginica'),\n",
       " (-0.374165738677394, 'Iris-virginica'),\n",
       " (-0.3741657386773938, 'Iris-virginica')]"
      ]
     },
     "execution_count": 98,
     "metadata": {},
     "output_type": "execute_result"
    },
    {
     "data": {
      "text/plain": [
       "[(-0.5744562646538024, 'Iris-virginica'),\n",
       " (-0.4242640687119287, 'Iris-virginica'),\n",
       " (-0.5477225575051657, 'Iris-virginica'),\n",
       " (-0.374165738677394, 'Iris-virginica'),\n",
       " (-0.3741657386773938, 'Iris-virginica')]"
      ]
     },
     "execution_count": 98,
     "metadata": {},
     "output_type": "execute_result"
    },
    {
     "data": {
      "text/plain": [
       "(-0.5744562646538024, 'Iris-virginica')"
      ]
     },
     "execution_count": 98,
     "metadata": {},
     "output_type": "execute_result"
    },
    {
     "data": {
      "text/plain": [
       "[(-0.5477225575051657, 'Iris-virginica'),\n",
       " (-0.4242640687119287, 'Iris-virginica'),\n",
       " (-0.360555127546399, 'Iris-virginica'),\n",
       " (-0.374165738677394, 'Iris-virginica'),\n",
       " (-0.3741657386773938, 'Iris-virginica')]"
      ]
     },
     "execution_count": 98,
     "metadata": {},
     "output_type": "execute_result"
    },
    {
     "data": {
      "text/plain": [
       "(-0.5477225575051657, 'Iris-virginica')"
      ]
     },
     "execution_count": 98,
     "metadata": {},
     "output_type": "execute_result"
    },
    {
     "data": {
      "text/plain": [
       "[(-0.4242640687119287, 'Iris-virginica'),\n",
       " (-0.374165738677394, 'Iris-virginica'),\n",
       " (-0.42426406871192807, 'Iris-virginica'),\n",
       " (-0.360555127546399, 'Iris-virginica'),\n",
       " (-0.3741657386773938, 'Iris-virginica')]"
      ]
     },
     "execution_count": 98,
     "metadata": {},
     "output_type": "execute_result"
    },
    {
     "data": {
      "text/plain": [
       "(-0.4242640687119287, 'Iris-virginica')"
      ]
     },
     "execution_count": 98,
     "metadata": {},
     "output_type": "execute_result"
    },
    {
     "data": {
      "text/plain": [
       "[(-0.42426406871192807, 'Iris-virginica'),\n",
       " (-0.374165738677394, 'Iris-virginica'),\n",
       " (-0.24494897427831822, 'Iris-virginica'),\n",
       " (-0.360555127546399, 'Iris-virginica'),\n",
       " (-0.3741657386773938, 'Iris-virginica')]"
      ]
     },
     "execution_count": 98,
     "metadata": {},
     "output_type": "execute_result"
    },
    {
     "data": {
      "text/plain": [
       "[(-0.42426406871192807, 'Iris-virginica'),\n",
       " (-0.374165738677394, 'Iris-virginica'),\n",
       " (-0.24494897427831822, 'Iris-virginica'),\n",
       " (-0.360555127546399, 'Iris-virginica'),\n",
       " (-0.3741657386773938, 'Iris-virginica')]"
      ]
     },
     "execution_count": 98,
     "metadata": {},
     "output_type": "execute_result"
    },
    {
     "data": {
      "text/plain": [
       "[(-0.42426406871192807, 'Iris-virginica'),\n",
       " (-0.374165738677394, 'Iris-virginica'),\n",
       " (-0.24494897427831822, 'Iris-virginica'),\n",
       " (-0.360555127546399, 'Iris-virginica'),\n",
       " (-0.3741657386773938, 'Iris-virginica')]"
      ]
     },
     "execution_count": 98,
     "metadata": {},
     "output_type": "execute_result"
    },
    {
     "data": {
      "text/plain": [
       "[(-0.42426406871192807, 'Iris-virginica'),\n",
       " (-0.374165738677394, 'Iris-virginica'),\n",
       " (-0.24494897427831822, 'Iris-virginica'),\n",
       " (-0.360555127546399, 'Iris-virginica'),\n",
       " (-0.3741657386773938, 'Iris-virginica')]"
      ]
     },
     "execution_count": 98,
     "metadata": {},
     "output_type": "execute_result"
    },
    {
     "data": {
      "text/plain": [
       "(-0.42426406871192807, 'Iris-virginica')"
      ]
     },
     "execution_count": 98,
     "metadata": {},
     "output_type": "execute_result"
    },
    {
     "data": {
      "text/plain": [
       "[(-0.374165738677394, 'Iris-virginica'),\n",
       " (-0.3741657386773938, 'Iris-virginica'),\n",
       " (-0.24494897427831822, 'Iris-virginica'),\n",
       " (-0.360555127546399, 'Iris-virginica'),\n",
       " (-0.0, 'Iris-virginica')]"
      ]
     },
     "execution_count": 98,
     "metadata": {},
     "output_type": "execute_result"
    },
    {
     "data": {
      "text/plain": [
       "[(-0.374165738677394, 'Iris-virginica'),\n",
       " (-0.3741657386773938, 'Iris-virginica'),\n",
       " (-0.24494897427831822, 'Iris-virginica'),\n",
       " (-0.360555127546399, 'Iris-virginica'),\n",
       " (-0.0, 'Iris-virginica')]"
      ]
     },
     "execution_count": 98,
     "metadata": {},
     "output_type": "execute_result"
    },
    {
     "data": {
      "text/plain": [
       "(-0.374165738677394, 'Iris-virginica')"
      ]
     },
     "execution_count": 98,
     "metadata": {},
     "output_type": "execute_result"
    },
    {
     "data": {
      "text/plain": [
       "[(-0.3741657386773938, 'Iris-virginica'),\n",
       " (-0.360555127546399, 'Iris-virginica'),\n",
       " (-0.3605551275463989, 'Iris-virginica'),\n",
       " (-0.24494897427831822, 'Iris-virginica'),\n",
       " (-0.0, 'Iris-virginica')]"
      ]
     },
     "execution_count": 98,
     "metadata": {},
     "output_type": "execute_result"
    },
    {
     "data": {
      "text/plain": [
       "[(-0.3741657386773938, 'Iris-virginica'),\n",
       " (-0.360555127546399, 'Iris-virginica'),\n",
       " (-0.3605551275463989, 'Iris-virginica'),\n",
       " (-0.24494897427831822, 'Iris-virginica'),\n",
       " (-0.0, 'Iris-virginica')]"
      ]
     },
     "execution_count": 98,
     "metadata": {},
     "output_type": "execute_result"
    },
    {
     "data": {
      "text/plain": [
       "[(-0.3741657386773938, 'Iris-virginica'),\n",
       " (-0.360555127546399, 'Iris-virginica'),\n",
       " (-0.3605551275463989, 'Iris-virginica'),\n",
       " (-0.24494897427831822, 'Iris-virginica'),\n",
       " (-0.0, 'Iris-virginica')]"
      ]
     },
     "execution_count": 98,
     "metadata": {},
     "output_type": "execute_result"
    }
   ],
   "source": [
    "#compute dis\n",
    "\n",
    "import heapq\n",
    "\n",
    "data = df.values\n",
    "n = len(data)\n",
    "m = len(data[0])-1\n",
    "K = 5\n",
    "# line = (4.8,3.2,1.3,0.2)\n",
    "line =(6.7,3.0,5.2,2.3)\n",
    "\n",
    "neighbors = [] #[(dis, label), ...]\n",
    "for i,e in enumerate(data):\n",
    "    X, Y = e[:m], e[m]\n",
    "    \n",
    "    # \n",
    "    dis = -GetDistance.euclidean(X, line)\n",
    "    if len(neighbors) < K:\n",
    "        heapq.heappush(neighbors, (dis, Y))\n",
    "    else:     \n",
    "        if dis > neighbors[0][0]:\n",
    "            heapq.heappush(neighbors, (dis, Y))\n",
    "            heapq.heappop(neighbors);\n",
    "#     print(dis, neighbors[0][0])    \n",
    "    neighbors"
   ]
  },
  {
   "cell_type": "code",
   "execution_count": 96,
   "metadata": {},
   "outputs": [
    {
     "data": {
      "text/plain": [
       "'Iris-virginica'"
      ]
     },
     "execution_count": 96,
     "metadata": {},
     "output_type": "execute_result"
    }
   ],
   "source": [
    "#vote\n",
    "from collections import Counter\n",
    "stats=Counter([x[1] for x in neighbors])\n",
    "stats.most_common(1)[0][0]"
   ]
  }
 ],
 "metadata": {
  "kernelspec": {
   "display_name": "Python [conda env:np]",
   "language": "python",
   "name": "conda-env-np-py"
  },
  "language_info": {
   "codemirror_mode": {
    "name": "ipython",
    "version": 3
   },
   "file_extension": ".py",
   "mimetype": "text/x-python",
   "name": "python",
   "nbconvert_exporter": "python",
   "pygments_lexer": "ipython3",
   "version": "3.6.3"
  }
 },
 "nbformat": 4,
 "nbformat_minor": 1
}
